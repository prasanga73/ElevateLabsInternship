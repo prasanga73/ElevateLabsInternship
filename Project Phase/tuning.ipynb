{
 "cells": [
  {
   "cell_type": "code",
   "execution_count": 1,
   "id": "0967112b",
   "metadata": {},
   "outputs": [],
   "source": [
    "from torchvision import transforms,datasets\n",
    "\n",
    "train_transform = transforms.Compose([\n",
    "    transforms.Resize(72),                                      # Slightly larger to allow cropping\n",
    "    transforms.RandomCrop(64),                                  # Random 64x64 crop for augmentation\n",
    "    transforms.RandomHorizontalFlip(p=0.5),                     # Flip with 50% probability\n",
    "    transforms.RandomRotation(15),                              # Small rotation ±15 degrees\n",
    "    transforms.ColorJitter(brightness=0.2, contrast=0.2, saturation=0.2),  # Color/brightness variation\n",
    "    transforms.RandomApply([transforms.GaussianBlur(3)], p=0.2),  # Blur sometimes\n",
    "    transforms.ToTensor(),                                      # Convert to tensor\n",
    "    transforms.Normalize((0.5, 0.5, 0.5), (0.5, 0.5, 0.5))     # Normalize to mean=0.5, std=0.5\n",
    "])\n",
    "\n",
    "test_transform = transforms.Compose([\n",
    "    transforms.Resize((64, 64)),                                # Resize to 64x64 for testing\n",
    "    transforms.ToTensor(),                                      # Convert to tensor\n",
    "    transforms.Normalize((0.5, 0.5, 0.5), (0.5, 0.5, 0.5))     # Normalize with same mean & std\n",
    "])"
   ]
  },
  {
   "cell_type": "code",
   "execution_count": 2,
   "id": "48ce29e4",
   "metadata": {},
   "outputs": [],
   "source": [
    "train_data = datasets.ImageFolder(\"PlantDataset/train\", transform=train_transform)\n",
    "test_data = datasets.ImageFolder(\"PlantDataset/test\", transform=test_transform)"
   ]
  },
  {
   "cell_type": "code",
   "execution_count": 3,
   "id": "eb49dfbd",
   "metadata": {},
   "outputs": [],
   "source": [
    "from torch.utils.data import DataLoader\n",
    "batch_size = 32\n",
    "train_loader = DataLoader(train_data,batch_size=batch_size,shuffle=True)\n",
    "test_loader = DataLoader(test_data,batch_size=batch_size,shuffle=True)\n"
   ]
  },
  {
   "cell_type": "code",
   "execution_count": 4,
   "id": "9740c15c",
   "metadata": {},
   "outputs": [],
   "source": [
    "num_classes = len(train_data.classes)\n"
   ]
  },
  {
   "cell_type": "code",
   "execution_count": 5,
   "id": "8b4d98cb",
   "metadata": {},
   "outputs": [],
   "source": [
    "import torch\n",
    "from tuningmodel import CustomCNN\n",
    "from trainNN import train\n",
    "\n",
    "def objective(trial):\n",
    "    # 1. Suggest hyperparameters\n",
    "    batch_size = trial.suggest_categorical(\"batch_size\", [32, 64, 128])\n",
    "    lr = trial.suggest_float(\"lr\", 1e-4, 1e-2, log=True)\n",
    "    dropout_conv = trial.suggest_float(\"dropout_conv\", 0.2, 0.5)\n",
    "    dropout_fc = trial.suggest_float(\"dropout_fc\", 0.3, 0.6)\n",
    "    weight_decay = trial.suggest_float(\"weight_decay\", 1e-6, 1e-3, log=True)\n",
    "\n",
    "    # 2. Setup device and data\n",
    "    device = torch.device(\"cuda\" if torch.cuda.is_available() else \"cpu\")\n",
    "\n",
    "    # 3. Build model and optimizer\n",
    "    model = CustomCNN(num_classes, dropout_conv, dropout_fc).to(device)\n",
    "    optimizer = torch.optim.Adam(model.parameters(), lr=lr, weight_decay=weight_decay)\n",
    "    loss_fn = torch.nn.CrossEntropyLoss()\n",
    "\n",
    "    # 4. Optional: Use a scheduler (or not)\n",
    "    scheduler = torch.optim.lr_scheduler.StepLR(optimizer, step_size=10, gamma=0.5)\n",
    "\n",
    "    # 5. Train model using your function\n",
    "    results = train(\n",
    "        model=model,\n",
    "        train_dataloader=train_loader,\n",
    "        test_dataloader=test_loader,\n",
    "        optimizer=optimizer,\n",
    "        loss_fn=loss_fn,\n",
    "        epochs=5,  # keep small for tuning\n",
    "        device=device,\n",
    "        scheduler=scheduler\n",
    "    )\n",
    "\n",
    "    # 6. Evaluate final validation accuracy\n",
    "    final_test_acc = results[\"test_acc\"][-1]\n",
    "    return final_test_acc  \n"
   ]
  },
  {
   "cell_type": "code",
   "execution_count": 6,
   "id": "abe27320",
   "metadata": {},
   "outputs": [
    {
     "name": "stderr",
     "output_type": "stream",
     "text": [
      "[I 2025-06-25 19:03:53,979] A new study created in memory with name: no-name-62bd88b6-f2f2-4c13-afbf-76db255eaeb5\n"
     ]
    },
    {
     "data": {
      "application/vnd.jupyter.widget-view+json": {
       "model_id": "02c148d7368e468299aa4cab1c6234a0",
       "version_major": 2,
       "version_minor": 0
      },
      "text/plain": [
       "  0%|          | 0/5 [00:00<?, ?it/s]"
      ]
     },
     "metadata": {},
     "output_type": "display_data"
    },
    {
     "name": "stdout",
     "output_type": "stream",
     "text": [
      "Epoch: 1 | train_loss: 1.4474 | train_acc: 0.5372 | test_loss: 1.1162 | test_acc: 0.6339\n",
      "Current LR: 0.000333\n",
      "Epoch: 2 | train_loss: 0.9356 | train_acc: 0.6901 | test_loss: 0.8454 | test_acc: 0.7337\n",
      "Current LR: 0.000333\n",
      "Epoch: 3 | train_loss: 0.7446 | train_acc: 0.7514 | test_loss: 0.6960 | test_acc: 0.7675\n",
      "Current LR: 0.000333\n",
      "Epoch: 4 | train_loss: 0.6221 | train_acc: 0.7904 | test_loss: 0.5388 | test_acc: 0.8252\n",
      "Current LR: 0.000333\n"
     ]
    },
    {
     "name": "stderr",
     "output_type": "stream",
     "text": [
      "[I 2025-06-25 19:08:31,180] Trial 0 finished with value: 0.8379807692307693 and parameters: {'batch_size': 64, 'lr': 0.00033284692645719257, 'dropout_conv': 0.35928677834362466, 'dropout_fc': 0.3212433101667139, 'weight_decay': 6.567976548943132e-05}. Best is trial 0 with value: 0.8379807692307693.\n"
     ]
    },
    {
     "name": "stdout",
     "output_type": "stream",
     "text": [
      "Epoch: 5 | train_loss: 0.5397 | train_acc: 0.8170 | test_loss: 0.4616 | test_acc: 0.8380\n",
      "Current LR: 0.000333\n"
     ]
    },
    {
     "data": {
      "application/vnd.jupyter.widget-view+json": {
       "model_id": "d8a08074cb2b4c9f89edd565f821b1c8",
       "version_major": 2,
       "version_minor": 0
      },
      "text/plain": [
       "  0%|          | 0/5 [00:00<?, ?it/s]"
      ]
     },
     "metadata": {},
     "output_type": "display_data"
    },
    {
     "name": "stdout",
     "output_type": "stream",
     "text": [
      "Epoch: 1 | train_loss: 1.6502 | train_acc: 0.4881 | test_loss: 0.9137 | test_acc: 0.6857\n",
      "Current LR: 0.005404\n",
      "Epoch: 2 | train_loss: 1.3321 | train_acc: 0.5667 | test_loss: 0.9160 | test_acc: 0.6970\n",
      "Current LR: 0.005404\n",
      "Epoch: 3 | train_loss: 0.9157 | train_acc: 0.6904 | test_loss: 0.6673 | test_acc: 0.7768\n",
      "Current LR: 0.005404\n",
      "Epoch: 4 | train_loss: 0.8414 | train_acc: 0.7207 | test_loss: 0.9739 | test_acc: 0.6658\n",
      "Current LR: 0.005404\n"
     ]
    },
    {
     "name": "stderr",
     "output_type": "stream",
     "text": [
      "[I 2025-06-25 19:12:29,206] Trial 1 finished with value: 0.7761217948717949 and parameters: {'batch_size': 128, 'lr': 0.005404419239030323, 'dropout_conv': 0.4331607614545735, 'dropout_fc': 0.4328555921809787, 'weight_decay': 2.8403875490641716e-06}. Best is trial 0 with value: 0.8379807692307693.\n"
     ]
    },
    {
     "name": "stdout",
     "output_type": "stream",
     "text": [
      "Epoch: 5 | train_loss: 0.9226 | train_acc: 0.6895 | test_loss: 0.7314 | test_acc: 0.7761\n",
      "Current LR: 0.005404\n"
     ]
    },
    {
     "data": {
      "application/vnd.jupyter.widget-view+json": {
       "model_id": "6f33c1db669942cab052f56688ea092e",
       "version_major": 2,
       "version_minor": 0
      },
      "text/plain": [
       "  0%|          | 0/5 [00:00<?, ?it/s]"
      ]
     },
     "metadata": {},
     "output_type": "display_data"
    },
    {
     "name": "stdout",
     "output_type": "stream",
     "text": [
      "Epoch: 1 | train_loss: 1.6176 | train_acc: 0.4828 | test_loss: 1.4144 | test_acc: 0.5611\n",
      "Current LR: 0.000480\n",
      "Epoch: 2 | train_loss: 1.0372 | train_acc: 0.6566 | test_loss: 0.8869 | test_acc: 0.7244\n",
      "Current LR: 0.000480\n",
      "Epoch: 3 | train_loss: 0.8550 | train_acc: 0.7131 | test_loss: 0.8472 | test_acc: 0.7208\n",
      "Current LR: 0.000480\n",
      "Epoch: 4 | train_loss: 0.7219 | train_acc: 0.7566 | test_loss: 0.7321 | test_acc: 0.7659\n",
      "Current LR: 0.000480\n"
     ]
    },
    {
     "name": "stderr",
     "output_type": "stream",
     "text": [
      "[I 2025-06-25 19:16:19,577] Trial 2 finished with value: 0.7887019230769231 and parameters: {'batch_size': 32, 'lr': 0.0004796353832092293, 'dropout_conv': 0.48005716641782453, 'dropout_fc': 0.5610667441587187, 'weight_decay': 0.00017341293244040423}. Best is trial 0 with value: 0.8379807692307693.\n"
     ]
    },
    {
     "name": "stdout",
     "output_type": "stream",
     "text": [
      "Epoch: 5 | train_loss: 0.6315 | train_acc: 0.7881 | test_loss: 0.6407 | test_acc: 0.7887\n",
      "Current LR: 0.000480\n"
     ]
    },
    {
     "data": {
      "application/vnd.jupyter.widget-view+json": {
       "model_id": "3ec19a9bc8a24de2a610dbc0df3088be",
       "version_major": 2,
       "version_minor": 0
      },
      "text/plain": [
       "  0%|          | 0/5 [00:00<?, ?it/s]"
      ]
     },
     "metadata": {},
     "output_type": "display_data"
    },
    {
     "name": "stdout",
     "output_type": "stream",
     "text": [
      "Epoch: 1 | train_loss: 1.4701 | train_acc: 0.5272 | test_loss: 1.0934 | test_acc: 0.6343\n",
      "Current LR: 0.001778\n",
      "Epoch: 2 | train_loss: 0.9881 | train_acc: 0.6670 | test_loss: 0.6762 | test_acc: 0.7717\n",
      "Current LR: 0.001778\n",
      "Epoch: 3 | train_loss: 0.7868 | train_acc: 0.7366 | test_loss: 0.4856 | test_acc: 0.8349\n",
      "Current LR: 0.001778\n",
      "Epoch: 4 | train_loss: 0.6981 | train_acc: 0.7694 | test_loss: 0.6278 | test_acc: 0.7849\n",
      "Current LR: 0.001778\n"
     ]
    },
    {
     "name": "stderr",
     "output_type": "stream",
     "text": [
      "[I 2025-06-25 19:20:11,350] Trial 3 finished with value: 0.81875 and parameters: {'batch_size': 32, 'lr': 0.0017779449397343212, 'dropout_conv': 0.4850361943213267, 'dropout_fc': 0.5225606140102789, 'weight_decay': 0.00012584067147111585}. Best is trial 0 with value: 0.8379807692307693.\n"
     ]
    },
    {
     "name": "stdout",
     "output_type": "stream",
     "text": [
      "Epoch: 5 | train_loss: 0.6381 | train_acc: 0.7867 | test_loss: 0.5563 | test_acc: 0.8187\n",
      "Current LR: 0.001778\n"
     ]
    },
    {
     "data": {
      "application/vnd.jupyter.widget-view+json": {
       "model_id": "73ad13dab3fb41d683ab0d500ddd3054",
       "version_major": 2,
       "version_minor": 0
      },
      "text/plain": [
       "  0%|          | 0/5 [00:00<?, ?it/s]"
      ]
     },
     "metadata": {},
     "output_type": "display_data"
    },
    {
     "name": "stdout",
     "output_type": "stream",
     "text": [
      "Epoch: 1 | train_loss: 1.4345 | train_acc: 0.5454 | test_loss: 1.1960 | test_acc: 0.6221\n",
      "Current LR: 0.000439\n",
      "Epoch: 2 | train_loss: 0.9277 | train_acc: 0.6928 | test_loss: 0.7833 | test_acc: 0.7409\n",
      "Current LR: 0.000439\n",
      "Epoch: 3 | train_loss: 0.7222 | train_acc: 0.7560 | test_loss: 0.7813 | test_acc: 0.7449\n",
      "Current LR: 0.000439\n",
      "Epoch: 4 | train_loss: 0.6000 | train_acc: 0.8007 | test_loss: 0.4176 | test_acc: 0.8581\n",
      "Current LR: 0.000439\n"
     ]
    },
    {
     "name": "stderr",
     "output_type": "stream",
     "text": [
      "[I 2025-06-25 19:24:01,546] Trial 4 finished with value: 0.8092147435897437 and parameters: {'batch_size': 64, 'lr': 0.00043867312485766115, 'dropout_conv': 0.3616176649685775, 'dropout_fc': 0.5033658325893795, 'weight_decay': 1.6350723565389485e-06}. Best is trial 0 with value: 0.8379807692307693.\n"
     ]
    },
    {
     "name": "stdout",
     "output_type": "stream",
     "text": [
      "Epoch: 5 | train_loss: 0.5359 | train_acc: 0.8193 | test_loss: 0.5596 | test_acc: 0.8092\n",
      "Current LR: 0.000439\n"
     ]
    },
    {
     "data": {
      "application/vnd.jupyter.widget-view+json": {
       "model_id": "791719b9fd5c45b5bbf7ddcce8361fd7",
       "version_major": 2,
       "version_minor": 0
      },
      "text/plain": [
       "  0%|          | 0/5 [00:00<?, ?it/s]"
      ]
     },
     "metadata": {},
     "output_type": "display_data"
    },
    {
     "name": "stdout",
     "output_type": "stream",
     "text": [
      "Epoch: 1 | train_loss: 1.4787 | train_acc: 0.5303 | test_loss: 1.1089 | test_acc: 0.6467\n",
      "Current LR: 0.000201\n",
      "Epoch: 2 | train_loss: 0.9461 | train_acc: 0.6911 | test_loss: 1.0794 | test_acc: 0.6772\n",
      "Current LR: 0.000201\n",
      "Epoch: 3 | train_loss: 0.7419 | train_acc: 0.7548 | test_loss: 0.6906 | test_acc: 0.7877\n",
      "Current LR: 0.000201\n",
      "Epoch: 4 | train_loss: 0.6297 | train_acc: 0.7885 | test_loss: 0.6199 | test_acc: 0.7937\n",
      "Current LR: 0.000201\n"
     ]
    },
    {
     "name": "stderr",
     "output_type": "stream",
     "text": [
      "[I 2025-06-25 19:27:56,827] Trial 5 finished with value: 0.7607371794871794 and parameters: {'batch_size': 128, 'lr': 0.00020132391543933525, 'dropout_conv': 0.260706782089448, 'dropout_fc': 0.4063164552586424, 'weight_decay': 8.503319821124563e-06}. Best is trial 0 with value: 0.8379807692307693.\n"
     ]
    },
    {
     "name": "stdout",
     "output_type": "stream",
     "text": [
      "Epoch: 5 | train_loss: 0.5348 | train_acc: 0.8197 | test_loss: 0.7559 | test_acc: 0.7607\n",
      "Current LR: 0.000201\n"
     ]
    },
    {
     "data": {
      "application/vnd.jupyter.widget-view+json": {
       "model_id": "0f2956c6e81a4398b7351b7c337a8fa2",
       "version_major": 2,
       "version_minor": 0
      },
      "text/plain": [
       "  0%|          | 0/5 [00:00<?, ?it/s]"
      ]
     },
     "metadata": {},
     "output_type": "display_data"
    },
    {
     "name": "stdout",
     "output_type": "stream",
     "text": [
      "Epoch: 1 | train_loss: 1.5754 | train_acc: 0.5003 | test_loss: 1.1278 | test_acc: 0.6490\n",
      "Current LR: 0.000136\n",
      "Epoch: 2 | train_loss: 1.0265 | train_acc: 0.6650 | test_loss: 0.9204 | test_acc: 0.6978\n",
      "Current LR: 0.000136\n",
      "Epoch: 3 | train_loss: 0.8234 | train_acc: 0.7320 | test_loss: 0.6878 | test_acc: 0.7795\n",
      "Current LR: 0.000136\n",
      "Epoch: 4 | train_loss: 0.6904 | train_acc: 0.7748 | test_loss: 0.7530 | test_acc: 0.7663\n",
      "Current LR: 0.000136\n"
     ]
    },
    {
     "name": "stderr",
     "output_type": "stream",
     "text": [
      "[I 2025-06-25 19:32:00,016] Trial 6 finished with value: 0.7875 and parameters: {'batch_size': 128, 'lr': 0.00013606423830850008, 'dropout_conv': 0.2004468669959972, 'dropout_fc': 0.5574024634940136, 'weight_decay': 3.802999256077833e-05}. Best is trial 0 with value: 0.8379807692307693.\n"
     ]
    },
    {
     "name": "stdout",
     "output_type": "stream",
     "text": [
      "Epoch: 5 | train_loss: 0.5957 | train_acc: 0.8051 | test_loss: 0.6817 | test_acc: 0.7875\n",
      "Current LR: 0.000136\n"
     ]
    },
    {
     "data": {
      "application/vnd.jupyter.widget-view+json": {
       "model_id": "36cf2c0d4daa4e5b8ac7c1e5d8a699dd",
       "version_major": 2,
       "version_minor": 0
      },
      "text/plain": [
       "  0%|          | 0/5 [00:00<?, ?it/s]"
      ]
     },
     "metadata": {},
     "output_type": "display_data"
    },
    {
     "name": "stdout",
     "output_type": "stream",
     "text": [
      "Epoch: 1 | train_loss: 1.8126 | train_acc: 0.4698 | test_loss: 1.0158 | test_acc: 0.6539\n",
      "Current LR: 0.009259\n",
      "Epoch: 2 | train_loss: 1.0949 | train_acc: 0.6438 | test_loss: 0.6484 | test_acc: 0.7877\n",
      "Current LR: 0.009259\n",
      "Epoch: 3 | train_loss: 0.8507 | train_acc: 0.7190 | test_loss: 0.9249 | test_acc: 0.7276\n",
      "Current LR: 0.009259\n",
      "Epoch: 4 | train_loss: 0.7815 | train_acc: 0.7431 | test_loss: 0.5673 | test_acc: 0.8165\n",
      "Current LR: 0.009259\n"
     ]
    },
    {
     "name": "stderr",
     "output_type": "stream",
     "text": [
      "[I 2025-06-25 19:36:12,936] Trial 7 finished with value: 0.8284455128205128 and parameters: {'batch_size': 64, 'lr': 0.009259206933824754, 'dropout_conv': 0.31706267259434623, 'dropout_fc': 0.5645172069634186, 'weight_decay': 4.7044062453761655e-06}. Best is trial 0 with value: 0.8379807692307693.\n"
     ]
    },
    {
     "name": "stdout",
     "output_type": "stream",
     "text": [
      "Epoch: 5 | train_loss: 0.7565 | train_acc: 0.7486 | test_loss: 0.6201 | test_acc: 0.8284\n",
      "Current LR: 0.009259\n"
     ]
    },
    {
     "data": {
      "application/vnd.jupyter.widget-view+json": {
       "model_id": "83bd3af356ce417593c11ba7e01afcd6",
       "version_major": 2,
       "version_minor": 0
      },
      "text/plain": [
       "  0%|          | 0/5 [00:00<?, ?it/s]"
      ]
     },
     "metadata": {},
     "output_type": "display_data"
    },
    {
     "name": "stdout",
     "output_type": "stream",
     "text": [
      "Epoch: 1 | train_loss: 1.3240 | train_acc: 0.5723 | test_loss: 1.4629 | test_acc: 0.5587\n",
      "Current LR: 0.001128\n",
      "Epoch: 2 | train_loss: 0.8289 | train_acc: 0.7242 | test_loss: 0.7669 | test_acc: 0.7399\n",
      "Current LR: 0.001128\n",
      "Epoch: 3 | train_loss: 0.6738 | train_acc: 0.7742 | test_loss: 0.6514 | test_acc: 0.7920\n",
      "Current LR: 0.001128\n",
      "Epoch: 4 | train_loss: 0.5871 | train_acc: 0.8007 | test_loss: 0.5356 | test_acc: 0.8249\n",
      "Current LR: 0.001128\n"
     ]
    },
    {
     "name": "stderr",
     "output_type": "stream",
     "text": [
      "[I 2025-06-25 19:40:27,249] Trial 8 finished with value: 0.8384615384615385 and parameters: {'batch_size': 64, 'lr': 0.0011278736357545924, 'dropout_conv': 0.37588999162605374, 'dropout_fc': 0.411493454980775, 'weight_decay': 7.926678177021497e-06}. Best is trial 8 with value: 0.8384615384615385.\n"
     ]
    },
    {
     "name": "stdout",
     "output_type": "stream",
     "text": [
      "Epoch: 5 | train_loss: 0.5526 | train_acc: 0.8144 | test_loss: 0.5393 | test_acc: 0.8385\n",
      "Current LR: 0.001128\n"
     ]
    },
    {
     "data": {
      "application/vnd.jupyter.widget-view+json": {
       "model_id": "4248ddfb29e747fb9948714272ad05fb",
       "version_major": 2,
       "version_minor": 0
      },
      "text/plain": [
       "  0%|          | 0/5 [00:00<?, ?it/s]"
      ]
     },
     "metadata": {},
     "output_type": "display_data"
    },
    {
     "name": "stdout",
     "output_type": "stream",
     "text": [
      "Epoch: 1 | train_loss: 1.9585 | train_acc: 0.3826 | test_loss: 1.6590 | test_acc: 0.4946\n",
      "Current LR: 0.000168\n",
      "Epoch: 2 | train_loss: 1.3061 | train_acc: 0.5794 | test_loss: 1.2917 | test_acc: 0.6028\n",
      "Current LR: 0.000168\n",
      "Epoch: 3 | train_loss: 1.0750 | train_acc: 0.6481 | test_loss: 1.4936 | test_acc: 0.5556\n",
      "Current LR: 0.000168\n",
      "Epoch: 4 | train_loss: 0.9229 | train_acc: 0.6970 | test_loss: 1.0531 | test_acc: 0.6874\n",
      "Current LR: 0.000168\n"
     ]
    },
    {
     "name": "stderr",
     "output_type": "stream",
     "text": [
      "[I 2025-06-25 19:44:41,496] Trial 9 finished with value: 0.6800480769230769 and parameters: {'batch_size': 32, 'lr': 0.00016775788063925817, 'dropout_conv': 0.44361096759859886, 'dropout_fc': 0.5893758593965495, 'weight_decay': 6.1364375573468e-05}. Best is trial 8 with value: 0.8384615384615385.\n"
     ]
    },
    {
     "name": "stdout",
     "output_type": "stream",
     "text": [
      "Epoch: 5 | train_loss: 0.8179 | train_acc: 0.7263 | test_loss: 1.0668 | test_acc: 0.6800\n",
      "Current LR: 0.000168\n"
     ]
    },
    {
     "data": {
      "application/vnd.jupyter.widget-view+json": {
       "model_id": "777f3594c1d34477824e57232c1db7be",
       "version_major": 2,
       "version_minor": 0
      },
      "text/plain": [
       "  0%|          | 0/5 [00:00<?, ?it/s]"
      ]
     },
     "metadata": {},
     "output_type": "display_data"
    },
    {
     "name": "stdout",
     "output_type": "stream",
     "text": [
      "Epoch: 1 | train_loss: 1.3706 | train_acc: 0.5565 | test_loss: 0.8275 | test_acc: 0.7262\n",
      "Current LR: 0.001596\n",
      "Epoch: 2 | train_loss: 0.8550 | train_acc: 0.7144 | test_loss: 0.7037 | test_acc: 0.7520\n",
      "Current LR: 0.001596\n",
      "Epoch: 3 | train_loss: 0.7037 | train_acc: 0.7650 | test_loss: 1.2460 | test_acc: 0.6012\n",
      "Current LR: 0.001596\n",
      "Epoch: 4 | train_loss: 0.6425 | train_acc: 0.7847 | test_loss: 0.4440 | test_acc: 0.8526\n",
      "Current LR: 0.001596\n"
     ]
    },
    {
     "name": "stderr",
     "output_type": "stream",
     "text": [
      "[I 2025-06-25 19:48:56,212] Trial 10 finished with value: 0.8377403846153846 and parameters: {'batch_size': 64, 'lr': 0.001595862743250554, 'dropout_conv': 0.4005755736163125, 'dropout_fc': 0.3616073843326263, 'weight_decay': 0.0007844043177405676}. Best is trial 8 with value: 0.8384615384615385.\n"
     ]
    },
    {
     "name": "stdout",
     "output_type": "stream",
     "text": [
      "Epoch: 5 | train_loss: 0.5949 | train_acc: 0.7990 | test_loss: 0.4824 | test_acc: 0.8377\n",
      "Current LR: 0.001596\n"
     ]
    },
    {
     "data": {
      "application/vnd.jupyter.widget-view+json": {
       "model_id": "58591736a3d744018c2cc642f467e87a",
       "version_major": 2,
       "version_minor": 0
      },
      "text/plain": [
       "  0%|          | 0/5 [00:00<?, ?it/s]"
      ]
     },
     "metadata": {},
     "output_type": "display_data"
    },
    {
     "name": "stdout",
     "output_type": "stream",
     "text": [
      "Epoch: 1 | train_loss: 1.3059 | train_acc: 0.5800 | test_loss: 0.9498 | test_acc: 0.6736\n",
      "Current LR: 0.000670\n",
      "Epoch: 2 | train_loss: 0.7950 | train_acc: 0.7331 | test_loss: 0.5882 | test_acc: 0.7963\n",
      "Current LR: 0.000670\n",
      "Epoch: 3 | train_loss: 0.6241 | train_acc: 0.7909 | test_loss: 0.7503 | test_acc: 0.7544\n",
      "Current LR: 0.000670\n",
      "Epoch: 4 | train_loss: 0.5453 | train_acc: 0.8127 | test_loss: 0.4483 | test_acc: 0.8478\n",
      "Current LR: 0.000670\n"
     ]
    },
    {
     "name": "stderr",
     "output_type": "stream",
     "text": [
      "[I 2025-06-25 19:53:43,607] Trial 11 finished with value: 0.8775641025641026 and parameters: {'batch_size': 64, 'lr': 0.0006703688502899312, 'dropout_conv': 0.3468618499231999, 'dropout_fc': 0.3063585977484773, 'weight_decay': 1.3351799096363005e-05}. Best is trial 11 with value: 0.8775641025641026.\n"
     ]
    },
    {
     "name": "stdout",
     "output_type": "stream",
     "text": [
      "Epoch: 5 | train_loss: 0.4905 | train_acc: 0.8372 | test_loss: 0.3510 | test_acc: 0.8776\n",
      "Current LR: 0.000670\n"
     ]
    },
    {
     "data": {
      "application/vnd.jupyter.widget-view+json": {
       "model_id": "7b3afcee4f3b4088ad6dc3fc21a25c3a",
       "version_major": 2,
       "version_minor": 0
      },
      "text/plain": [
       "  0%|          | 0/5 [00:00<?, ?it/s]"
      ]
     },
     "metadata": {},
     "output_type": "display_data"
    },
    {
     "name": "stdout",
     "output_type": "stream",
     "text": [
      "Epoch: 1 | train_loss: 1.2406 | train_acc: 0.5968 | test_loss: 0.8689 | test_acc: 0.7240\n",
      "Current LR: 0.000977\n",
      "Epoch: 2 | train_loss: 0.7551 | train_acc: 0.7443 | test_loss: 0.5843 | test_acc: 0.8014\n",
      "Current LR: 0.000977\n",
      "Epoch: 3 | train_loss: 0.6319 | train_acc: 0.7873 | test_loss: 0.4221 | test_acc: 0.8549\n",
      "Current LR: 0.000977\n",
      "Epoch: 4 | train_loss: 0.5258 | train_acc: 0.8235 | test_loss: 0.4775 | test_acc: 0.8438\n",
      "Current LR: 0.000977\n"
     ]
    },
    {
     "name": "stderr",
     "output_type": "stream",
     "text": [
      "[I 2025-06-25 19:58:52,004] Trial 12 finished with value: 0.8828525641025641 and parameters: {'batch_size': 64, 'lr': 0.000977173766134952, 'dropout_conv': 0.28763314487312763, 'dropout_fc': 0.3189077642263918, 'weight_decay': 1.2048293536987286e-05}. Best is trial 12 with value: 0.8828525641025641.\n"
     ]
    },
    {
     "name": "stdout",
     "output_type": "stream",
     "text": [
      "Epoch: 5 | train_loss: 0.4755 | train_acc: 0.8383 | test_loss: 0.3997 | test_acc: 0.8829\n",
      "Current LR: 0.000977\n"
     ]
    },
    {
     "data": {
      "application/vnd.jupyter.widget-view+json": {
       "model_id": "6ddaaca846aa45d9b01a8fb0bedfa1ed",
       "version_major": 2,
       "version_minor": 0
      },
      "text/plain": [
       "  0%|          | 0/5 [00:00<?, ?it/s]"
      ]
     },
     "metadata": {},
     "output_type": "display_data"
    },
    {
     "name": "stdout",
     "output_type": "stream",
     "text": [
      "Epoch: 1 | train_loss: 1.2546 | train_acc: 0.5944 | test_loss: 0.7061 | test_acc: 0.7644\n",
      "Current LR: 0.000791\n",
      "Epoch: 2 | train_loss: 0.7479 | train_acc: 0.7464 | test_loss: 0.5422 | test_acc: 0.8188\n",
      "Current LR: 0.000791\n",
      "Epoch: 3 | train_loss: 0.5815 | train_acc: 0.8037 | test_loss: 0.5201 | test_acc: 0.8363\n",
      "Current LR: 0.000791\n",
      "Epoch: 4 | train_loss: 0.4911 | train_acc: 0.8350 | test_loss: 0.5302 | test_acc: 0.8179\n",
      "Current LR: 0.000791\n"
     ]
    },
    {
     "name": "stderr",
     "output_type": "stream",
     "text": [
      "[I 2025-06-25 20:03:39,797] Trial 13 finished with value: 0.90625 and parameters: {'batch_size': 64, 'lr': 0.0007910337487851204, 'dropout_conv': 0.30095545731589424, 'dropout_fc': 0.30298593423275455, 'weight_decay': 1.3976550688783783e-05}. Best is trial 13 with value: 0.90625.\n"
     ]
    },
    {
     "name": "stdout",
     "output_type": "stream",
     "text": [
      "Epoch: 5 | train_loss: 0.4660 | train_acc: 0.8459 | test_loss: 0.2888 | test_acc: 0.9062\n",
      "Current LR: 0.000791\n"
     ]
    },
    {
     "data": {
      "application/vnd.jupyter.widget-view+json": {
       "model_id": "6e3486ef91cb445ca02142ed5782b2cf",
       "version_major": 2,
       "version_minor": 0
      },
      "text/plain": [
       "  0%|          | 0/5 [00:00<?, ?it/s]"
      ]
     },
     "metadata": {},
     "output_type": "display_data"
    },
    {
     "name": "stdout",
     "output_type": "stream",
     "text": [
      "Epoch: 1 | train_loss: 1.3685 | train_acc: 0.5589 | test_loss: 0.9692 | test_acc: 0.6702\n",
      "Current LR: 0.002905\n",
      "Epoch: 2 | train_loss: 0.8935 | train_acc: 0.7012 | test_loss: 0.6866 | test_acc: 0.7760\n",
      "Current LR: 0.002905\n",
      "Epoch: 3 | train_loss: 0.9878 | train_acc: 0.6772 | test_loss: 1.4839 | test_acc: 0.7671\n",
      "Current LR: 0.002905\n",
      "Epoch: 4 | train_loss: 0.7383 | train_acc: 0.7556 | test_loss: 0.8258 | test_acc: 0.7182\n",
      "Current LR: 0.002905\n"
     ]
    },
    {
     "name": "stderr",
     "output_type": "stream",
     "text": [
      "[I 2025-06-25 20:08:11,892] Trial 14 finished with value: 0.7074519230769231 and parameters: {'batch_size': 64, 'lr': 0.0029052833998977705, 'dropout_conv': 0.28516302782848235, 'dropout_fc': 0.35428841804916894, 'weight_decay': 1.8729633583778432e-05}. Best is trial 13 with value: 0.90625.\n"
     ]
    },
    {
     "name": "stdout",
     "output_type": "stream",
     "text": [
      "Epoch: 5 | train_loss: 0.7365 | train_acc: 0.7548 | test_loss: 0.9770 | test_acc: 0.7075\n",
      "Current LR: 0.002905\n",
      "Best trial:\n",
      "  Test Accuracy: 0.9062\n",
      "  Parameters: {'batch_size': 64, 'lr': 0.0007910337487851204, 'dropout_conv': 0.30095545731589424, 'dropout_fc': 0.30298593423275455, 'weight_decay': 1.3976550688783783e-05}\n"
     ]
    }
   ],
   "source": [
    "import optuna\n",
    "study = optuna.create_study(direction=\"maximize\")\n",
    "study.optimize(objective, n_trials=15)\n",
    "\n",
    "print(\"Best trial:\")\n",
    "best_trial = study.best_trial\n",
    "print(f\"  Test Accuracy: {best_trial.value:.4f}\")\n",
    "print(f\"  Parameters: {best_trial.params}\")"
   ]
  },
  {
   "cell_type": "code",
   "execution_count": null,
   "id": "4d64f493",
   "metadata": {},
   "outputs": [],
   "source": []
  }
 ],
 "metadata": {
  "kernelspec": {
   "display_name": "pytorchenv",
   "language": "python",
   "name": "python3"
  },
  "language_info": {
   "codemirror_mode": {
    "name": "ipython",
    "version": 3
   },
   "file_extension": ".py",
   "mimetype": "text/x-python",
   "name": "python",
   "nbconvert_exporter": "python",
   "pygments_lexer": "ipython3",
   "version": "3.11.11"
  }
 },
 "nbformat": 4,
 "nbformat_minor": 5
}
