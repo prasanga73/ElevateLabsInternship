{
 "cells": [
  {
   "cell_type": "code",
   "execution_count": 1,
   "id": "8d6d070f",
   "metadata": {},
   "outputs": [],
   "source": [
    "import torch\n",
    "train_dir = \"PlantDataset/train\"\n",
    "test_dir = \"PlantDataset/test\"\n",
    "device = torch.device(\"cuda\" if torch.cuda.is_available() else \"cpu\")"
   ]
  },
  {
   "cell_type": "code",
   "execution_count": 2,
   "id": "1be6358c",
   "metadata": {},
   "outputs": [],
   "source": [
    "from torchvision import transforms\n",
    "\n",
    "train_transform = transforms.Compose([\n",
    "    transforms.Resize(72),                                      \n",
    "    transforms.RandomCrop(64),                                  \n",
    "    transforms.RandomHorizontalFlip(p=0.5),                     \n",
    "    transforms.RandomRotation(15),                              \n",
    "    transforms.ColorJitter(brightness=0.2, contrast=0.2, saturation=0.2), \n",
    "    transforms.RandomApply([transforms.GaussianBlur(3)], p=0.2), \n",
    "    transforms.ToTensor(),                                     \n",
    "    transforms.Normalize((0.5, 0.5, 0.5), (0.5, 0.5, 0.5))    \n",
    "])\n",
    "\n",
    "test_transform = transforms.Compose([\n",
    "    transforms.Resize((64, 64)),                               \n",
    "    transforms.ToTensor(),                                      \n",
    "    transforms.Normalize((0.5, 0.5, 0.5), (0.5, 0.5, 0.5))     \n",
    "])"
   ]
  },
  {
   "cell_type": "code",
   "execution_count": 3,
   "id": "f7622094",
   "metadata": {},
   "outputs": [],
   "source": [
    "from torchvision import datasets, transforms\n",
    "train_data = datasets.ImageFolder(root=train_dir, transform=train_transform)\n",
    "test_data = datasets.ImageFolder(root=test_dir, transform=test_transform)"
   ]
  },
  {
   "cell_type": "code",
   "execution_count": 4,
   "id": "1dc11400",
   "metadata": {},
   "outputs": [],
   "source": [
    "num_classes = len(train_data.classes)"
   ]
  },
  {
   "cell_type": "code",
   "execution_count": 5,
   "id": "ee7ba423",
   "metadata": {},
   "outputs": [
    {
     "data": {
      "text/plain": [
       "CustomCNN(\n",
       "  (conv_block1): Sequential(\n",
       "    (0): Conv2d(3, 32, kernel_size=(3, 3), stride=(1, 1), padding=(1, 1))\n",
       "    (1): BatchNorm2d(32, eps=1e-05, momentum=0.1, affine=True, track_running_stats=True)\n",
       "    (2): ReLU()\n",
       "    (3): MaxPool2d(kernel_size=3, stride=3, padding=0, dilation=1, ceil_mode=False)\n",
       "    (4): Dropout(p=0.20274887191676094, inplace=False)\n",
       "  )\n",
       "  (conv_block2): Sequential(\n",
       "    (0): Conv2d(32, 64, kernel_size=(3, 3), stride=(1, 1), padding=(1, 1))\n",
       "    (1): BatchNorm2d(64, eps=1e-05, momentum=0.1, affine=True, track_running_stats=True)\n",
       "    (2): ReLU()\n",
       "    (3): Conv2d(64, 64, kernel_size=(3, 3), stride=(1, 1), padding=(1, 1))\n",
       "    (4): BatchNorm2d(64, eps=1e-05, momentum=0.1, affine=True, track_running_stats=True)\n",
       "    (5): ReLU()\n",
       "    (6): MaxPool2d(kernel_size=2, stride=2, padding=0, dilation=1, ceil_mode=False)\n",
       "    (7): Dropout(p=0.20274887191676094, inplace=False)\n",
       "  )\n",
       "  (conv_block3): Sequential(\n",
       "    (0): Conv2d(64, 128, kernel_size=(3, 3), stride=(1, 1), padding=(1, 1))\n",
       "    (1): BatchNorm2d(128, eps=1e-05, momentum=0.1, affine=True, track_running_stats=True)\n",
       "    (2): ReLU()\n",
       "    (3): Conv2d(128, 128, kernel_size=(3, 3), stride=(1, 1), padding=(1, 1))\n",
       "    (4): BatchNorm2d(128, eps=1e-05, momentum=0.1, affine=True, track_running_stats=True)\n",
       "    (5): ReLU()\n",
       "    (6): MaxPool2d(kernel_size=2, stride=2, padding=0, dilation=1, ceil_mode=False)\n",
       "    (7): Dropout(p=0.20274887191676094, inplace=False)\n",
       "  )\n",
       "  (fc): Sequential(\n",
       "    (0): Linear(in_features=3200, out_features=1024, bias=True)\n",
       "    (1): ReLU()\n",
       "    (2): BatchNorm1d(1024, eps=1e-05, momentum=0.1, affine=True, track_running_stats=True)\n",
       "    (3): Dropout(p=0.32760082109803323, inplace=False)\n",
       "    (4): Linear(in_features=1024, out_features=15, bias=True)\n",
       "  )\n",
       ")"
      ]
     },
     "execution_count": 5,
     "metadata": {},
     "output_type": "execute_result"
    }
   ],
   "source": [
    "from tuningmodel import CustomCNN\n",
    "\n",
    "model = CustomCNN(num_classes,dropout_conv=0.20274887191676094,dropout_fc=0.32760082109803323)\n",
    "model.to(device)"
   ]
  },
  {
   "cell_type": "code",
   "execution_count": 6,
   "id": "62a4863c",
   "metadata": {},
   "outputs": [],
   "source": [
    "# model = CustomCNN(15).cuda()\n",
    "# batch_size=2\n",
    "# n = 1\n",
    "\n",
    "# while(True):\n",
    "#     try:\n",
    "#         dummy_input = torch.randn(batch_size, 3, 64, 64).cuda()\n",
    "#         output = model(dummy_input)\n",
    "#         print(f\"Batch size {batch_size} fits in GPU memory!\")\n",
    "#     except RuntimeError as e:\n",
    "#         if 'out of memory' in str(e):\n",
    "#             print(f\"Batch size {batch_size} too large!\")\n",
    "#             break\n",
    "#         else:\n",
    "#             raise e\n",
    "#     n+=1\n",
    "#     batch_size = 2**(n)"
   ]
  },
  {
   "cell_type": "code",
   "execution_count": 7,
   "id": "0f0f89c6",
   "metadata": {},
   "outputs": [],
   "source": [
    "from torch.utils.data import DataLoader\n",
    "batch_size = 64\n",
    "train_loader = DataLoader(train_data, batch_size=batch_size, shuffle=True)\n",
    "test_loader = DataLoader(test_data, batch_size=batch_size, shuffle=False)"
   ]
  },
  {
   "cell_type": "code",
   "execution_count": 8,
   "id": "1404dbb3",
   "metadata": {},
   "outputs": [
    {
     "data": {
      "text/plain": [
       "['Pepper__bell___Bacterial_spot',\n",
       " 'Pepper__bell___healthy',\n",
       " 'Potato___Early_blight',\n",
       " 'Potato___Late_blight',\n",
       " 'Potato___healthy',\n",
       " 'Tomato_Bacterial_spot',\n",
       " 'Tomato_Early_blight',\n",
       " 'Tomato_Late_blight',\n",
       " 'Tomato_Leaf_Mold',\n",
       " 'Tomato_Septoria_leaf_spot',\n",
       " 'Tomato_Spider_mites_Two_spotted_spider_mite',\n",
       " 'Tomato__Target_Spot',\n",
       " 'Tomato__Tomato_YellowLeaf__Curl_Virus',\n",
       " 'Tomato__Tomato_mosaic_virus',\n",
       " 'Tomato_healthy']"
      ]
     },
     "execution_count": 8,
     "metadata": {},
     "output_type": "execute_result"
    }
   ],
   "source": [
    "class_names = train_data.classes\n",
    "class_names"
   ]
  },
  {
   "cell_type": "code",
   "execution_count": 9,
   "id": "8b05fffa",
   "metadata": {},
   "outputs": [
    {
     "data": {
      "text/plain": [
       "========================================================================================================================\n",
       "Layer (type (var_name))                  Input Shape          Output Shape         Param #              Trainable\n",
       "========================================================================================================================\n",
       "CustomCNN (CustomCNN)                    [512, 3, 64, 64]     [512, 15]            --                   True\n",
       "├─Sequential (conv_block1)               [512, 3, 64, 64]     [512, 32, 21, 21]    --                   True\n",
       "│    └─Conv2d (0)                        [512, 3, 64, 64]     [512, 32, 64, 64]    896                  True\n",
       "│    └─BatchNorm2d (1)                   [512, 32, 64, 64]    [512, 32, 64, 64]    64                   True\n",
       "│    └─ReLU (2)                          [512, 32, 64, 64]    [512, 32, 64, 64]    --                   --\n",
       "│    └─MaxPool2d (3)                     [512, 32, 64, 64]    [512, 32, 21, 21]    --                   --\n",
       "│    └─Dropout (4)                       [512, 32, 21, 21]    [512, 32, 21, 21]    --                   --\n",
       "├─Sequential (conv_block2)               [512, 32, 21, 21]    [512, 64, 10, 10]    --                   True\n",
       "│    └─Conv2d (0)                        [512, 32, 21, 21]    [512, 64, 21, 21]    18,496               True\n",
       "│    └─BatchNorm2d (1)                   [512, 64, 21, 21]    [512, 64, 21, 21]    128                  True\n",
       "│    └─ReLU (2)                          [512, 64, 21, 21]    [512, 64, 21, 21]    --                   --\n",
       "│    └─Conv2d (3)                        [512, 64, 21, 21]    [512, 64, 21, 21]    36,928               True\n",
       "│    └─BatchNorm2d (4)                   [512, 64, 21, 21]    [512, 64, 21, 21]    128                  True\n",
       "│    └─ReLU (5)                          [512, 64, 21, 21]    [512, 64, 21, 21]    --                   --\n",
       "│    └─MaxPool2d (6)                     [512, 64, 21, 21]    [512, 64, 10, 10]    --                   --\n",
       "│    └─Dropout (7)                       [512, 64, 10, 10]    [512, 64, 10, 10]    --                   --\n",
       "├─Sequential (conv_block3)               [512, 64, 10, 10]    [512, 128, 5, 5]     --                   True\n",
       "│    └─Conv2d (0)                        [512, 64, 10, 10]    [512, 128, 10, 10]   73,856               True\n",
       "│    └─BatchNorm2d (1)                   [512, 128, 10, 10]   [512, 128, 10, 10]   256                  True\n",
       "│    └─ReLU (2)                          [512, 128, 10, 10]   [512, 128, 10, 10]   --                   --\n",
       "│    └─Conv2d (3)                        [512, 128, 10, 10]   [512, 128, 10, 10]   147,584              True\n",
       "│    └─BatchNorm2d (4)                   [512, 128, 10, 10]   [512, 128, 10, 10]   256                  True\n",
       "│    └─ReLU (5)                          [512, 128, 10, 10]   [512, 128, 10, 10]   --                   --\n",
       "│    └─MaxPool2d (6)                     [512, 128, 10, 10]   [512, 128, 5, 5]     --                   --\n",
       "│    └─Dropout (7)                       [512, 128, 5, 5]     [512, 128, 5, 5]     --                   --\n",
       "├─Sequential (fc)                        [512, 3200]          [512, 15]            --                   True\n",
       "│    └─Linear (0)                        [512, 3200]          [512, 1024]          3,277,824            True\n",
       "│    └─ReLU (1)                          [512, 1024]          [512, 1024]          --                   --\n",
       "│    └─BatchNorm1d (2)                   [512, 1024]          [512, 1024]          2,048                True\n",
       "│    └─Dropout (3)                       [512, 1024]          [512, 1024]          --                   --\n",
       "│    └─Linear (4)                        [512, 1024]          [512, 15]            15,375               True\n",
       "========================================================================================================================\n",
       "Total params: 3,573,839\n",
       "Trainable params: 3,573,839\n",
       "Non-trainable params: 0\n",
       "Total mult-adds (Units.GIGABYTES): 27.42\n",
       "========================================================================================================================\n",
       "Input size (MB): 25.17\n",
       "Forward/backward pass size (MB): 1754.33\n",
       "Params size (MB): 14.30\n",
       "Estimated Total Size (MB): 1793.79\n",
       "========================================================================================================================"
      ]
     },
     "execution_count": 9,
     "metadata": {},
     "output_type": "execute_result"
    }
   ],
   "source": [
    "from torchinfo import summary\n",
    "\n",
    "summary(model=model,\n",
    "        input_size=(512,3,64,64),\n",
    "        col_names=[\"input_size\", \"output_size\", \"num_params\", \"trainable\"],\n",
    "        col_width=20,\n",
    "        row_settings=[\"var_names\"],\n",
    "        device=str(device)  # Ensure summary runs on the same device as the model\n",
    ")"
   ]
  },
  {
   "cell_type": "code",
   "execution_count": 10,
   "id": "f7854b3e",
   "metadata": {},
   "outputs": [],
   "source": [
    "from torch import nn\n",
    "criterion = nn.CrossEntropyLoss()\n",
    "optimizer = torch.optim.Adam(params=model.parameters(), lr=0.0006324336252474491, weight_decay=2.7909484353670146e-06)\n",
    "scheduler = torch.optim.lr_scheduler.StepLR(optimizer, step_size=10, gamma=0.5)"
   ]
  },
  {
   "cell_type": "code",
   "execution_count": 11,
   "id": "7409f084",
   "metadata": {},
   "outputs": [],
   "source": [
    "from trainNN import train\n",
    "\n",
    "torch.manual_seed(42)\n",
    "torch.cuda.manual_seed(42)\n",
    "\n",
    "from timeit import default_timer as timer\n",
    "start_time = timer()\n"
   ]
  },
  {
   "cell_type": "code",
   "execution_count": 12,
   "id": "64b1e5c1",
   "metadata": {},
   "outputs": [
    {
     "name": "stdout",
     "output_type": "stream",
     "text": [
      "torch.Size([64, 3, 64, 64])\n"
     ]
    }
   ],
   "source": [
    "# Get one batch of images and labels\n",
    "images, labels = next(iter(train_loader))\n",
    "\n",
    "# Print shape of images\n",
    "print(images.shape)  # Output: [batch_size, channels, height, width]\n"
   ]
  },
  {
   "cell_type": "code",
   "execution_count": 13,
   "id": "8bbf92a7",
   "metadata": {},
   "outputs": [
    {
     "data": {
      "application/vnd.jupyter.widget-view+json": {
       "model_id": "e4957d71d11040af805bc4e7efd22242",
       "version_major": 2,
       "version_minor": 0
      },
      "text/plain": [
       "  0%|          | 0/50 [00:00<?, ?it/s]"
      ]
     },
     "metadata": {},
     "output_type": "display_data"
    },
    {
     "name": "stdout",
     "output_type": "stream",
     "text": [
      "Epoch: 1 | train_loss: 1.2315 | train_acc: 0.6006 | test_loss: 1.1019 | test_acc: 0.6582\n",
      "Current LR: 0.000632\n",
      "Epoch: 2 | train_loss: 0.6945 | train_acc: 0.7681 | test_loss: 0.5571 | test_acc: 0.8113\n",
      "Current LR: 0.000632\n",
      "Epoch: 3 | train_loss: 0.5195 | train_acc: 0.8258 | test_loss: 0.5062 | test_acc: 0.8373\n",
      "Current LR: 0.000632\n",
      "Epoch: 4 | train_loss: 0.4344 | train_acc: 0.8533 | test_loss: 0.4017 | test_acc: 0.8637\n",
      "Current LR: 0.000632\n",
      "Epoch: 5 | train_loss: 0.3928 | train_acc: 0.8692 | test_loss: 0.3124 | test_acc: 0.8972\n",
      "Current LR: 0.000632\n",
      "Epoch: 6 | train_loss: 0.3330 | train_acc: 0.8862 | test_loss: 0.2468 | test_acc: 0.9179\n",
      "Current LR: 0.000632\n",
      "Epoch: 7 | train_loss: 0.3074 | train_acc: 0.8962 | test_loss: 0.2156 | test_acc: 0.9296\n",
      "Current LR: 0.000632\n",
      "Epoch: 8 | train_loss: 0.2835 | train_acc: 0.9054 | test_loss: 0.2435 | test_acc: 0.9144\n",
      "Current LR: 0.000632\n",
      "Epoch: 9 | train_loss: 0.2562 | train_acc: 0.9122 | test_loss: 0.2982 | test_acc: 0.9005\n",
      "Current LR: 0.000632\n",
      "Epoch: 10 | train_loss: 0.2490 | train_acc: 0.9158 | test_loss: 0.2228 | test_acc: 0.9255\n",
      "Current LR: 0.000316\n",
      "Epoch: 11 | train_loss: 0.1896 | train_acc: 0.9350 | test_loss: 0.2079 | test_acc: 0.9288\n",
      "Current LR: 0.000316\n",
      "Epoch: 12 | train_loss: 0.1807 | train_acc: 0.9376 | test_loss: 0.1572 | test_acc: 0.9445\n",
      "Current LR: 0.000316\n",
      "Epoch: 13 | train_loss: 0.1609 | train_acc: 0.9457 | test_loss: 0.1581 | test_acc: 0.9425\n",
      "Current LR: 0.000316\n",
      "Epoch: 14 | train_loss: 0.1493 | train_acc: 0.9487 | test_loss: 0.1313 | test_acc: 0.9543\n",
      "Current LR: 0.000316\n",
      "Epoch: 15 | train_loss: 0.1689 | train_acc: 0.9405 | test_loss: 0.1478 | test_acc: 0.9488\n",
      "Current LR: 0.000316\n",
      "Epoch: 16 | train_loss: 0.1495 | train_acc: 0.9489 | test_loss: 0.1283 | test_acc: 0.9563\n",
      "Current LR: 0.000316\n",
      "Epoch: 17 | train_loss: 0.1518 | train_acc: 0.9498 | test_loss: 0.1228 | test_acc: 0.9601\n",
      "Current LR: 0.000316\n",
      "Epoch: 18 | train_loss: 0.1310 | train_acc: 0.9551 | test_loss: 0.1319 | test_acc: 0.9550\n",
      "Current LR: 0.000316\n",
      "Epoch: 19 | train_loss: 0.1295 | train_acc: 0.9566 | test_loss: 0.1244 | test_acc: 0.9560\n",
      "Current LR: 0.000316\n",
      "Epoch: 20 | train_loss: 0.1223 | train_acc: 0.9581 | test_loss: 0.1249 | test_acc: 0.9611\n",
      "Current LR: 0.000158\n",
      "Epoch: 21 | train_loss: 0.1060 | train_acc: 0.9629 | test_loss: 0.0892 | test_acc: 0.9697\n",
      "Current LR: 0.000158\n",
      "Epoch: 22 | train_loss: 0.0907 | train_acc: 0.9689 | test_loss: 0.0896 | test_acc: 0.9673\n",
      "Current LR: 0.000158\n",
      "Epoch: 23 | train_loss: 0.0957 | train_acc: 0.9669 | test_loss: 0.0811 | test_acc: 0.9719\n",
      "Current LR: 0.000158\n",
      "Epoch: 24 | train_loss: 0.0915 | train_acc: 0.9675 | test_loss: 0.1061 | test_acc: 0.9620\n",
      "Current LR: 0.000158\n",
      "Epoch: 25 | train_loss: 0.0867 | train_acc: 0.9708 | test_loss: 0.0789 | test_acc: 0.9736\n",
      "Current LR: 0.000158\n",
      "Epoch: 26 | train_loss: 0.0876 | train_acc: 0.9699 | test_loss: 0.0868 | test_acc: 0.9724\n",
      "Current LR: 0.000158\n",
      "Epoch: 27 | train_loss: 0.0823 | train_acc: 0.9716 | test_loss: 0.0876 | test_acc: 0.9726\n",
      "Current LR: 0.000158\n",
      "Epoch: 28 | train_loss: 0.0823 | train_acc: 0.9717 | test_loss: 0.1033 | test_acc: 0.9627\n",
      "Current LR: 0.000158\n",
      "Epoch: 29 | train_loss: 0.0802 | train_acc: 0.9729 | test_loss: 0.0875 | test_acc: 0.9724\n",
      "Current LR: 0.000158\n",
      "Epoch: 30 | train_loss: 0.0769 | train_acc: 0.9727 | test_loss: 0.0908 | test_acc: 0.9726\n",
      "Early stopping in action at epoch 30\n",
      "[INFO] Total training time: 23.562 minutes\n"
     ]
    }
   ],
   "source": [
    "results = train(\n",
    "            model=model,\n",
    "            train_dataloader=train_loader,\n",
    "            test_dataloader=test_loader,\n",
    "            optimizer=optimizer,\n",
    "            loss_fn=criterion,\n",
    "            epochs=50,\n",
    "            device=device,\n",
    "            scheduler=scheduler\n",
    ")\n",
    "\n",
    "end_time = timer()\n",
    "print(f\"[INFO] Total training time: {(end_time-start_time)/60:.3f} minutes\")"
   ]
  },
  {
   "cell_type": "code",
   "execution_count": 14,
   "id": "ec000267",
   "metadata": {},
   "outputs": [
    {
     "data": {
      "image/png": "[encoded data removed]",
      "text/plain": [
       "<Figure size 1500x700 with 2 Axes>"
      ]
     },
     "metadata": {},
     "output_type": "display_data"
    }
   ],
   "source": [
    "from helper_functions import plot_loss_curves\n",
    "plot_loss_curves(results)"
   ]
  },
  {
   "cell_type": "code",
   "execution_count": 15,
   "id": "2bfb2744",
   "metadata": {},
   "outputs": [
    {
     "name": "stdout",
     "output_type": "stream",
     "text": [
      "Saving model to models\\modeldrop_final.pth\n"
     ]
    }
   ],
   "source": [
    "from pathlib import Path\n",
    "\n",
    "MODEL_PATH = Path(\"models\")\n",
    "MODEL_PATH.mkdir(parents=True, exist_ok=True)\n",
    "MODEL_NAME = \"modeldrop_final.pth\"\n",
    "MODEL_SAVE_PATH = MODEL_PATH / MODEL_NAME\n",
    "print(f\"Saving model to {MODEL_SAVE_PATH}\")\n",
    "torch.save(obj=model.state_dict(), f=MODEL_SAVE_PATH)"
   ]
  }
 ],
 "metadata": {
  "kernelspec": {
   "display_name": "pytorchenv",
   "language": "python",
   "name": "python3"
  },
  "language_info": {
   "codemirror_mode": {
    "name": "ipython",
    "version": 3
   },
   "file_extension": ".py",
   "mimetype": "text/x-python",
   "name": "python",
   "nbconvert_exporter": "python",
   "pygments_lexer": "ipython3",
   "version": "3.11.11"
  }
 },
 "nbformat": 4,
 "nbformat_minor": 5
}
